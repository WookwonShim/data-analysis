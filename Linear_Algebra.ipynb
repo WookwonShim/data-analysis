{
  "nbformat": 4,
  "nbformat_minor": 0,
  "metadata": {
    "colab": {
      "provenance": [],
      "toc_visible": true,
      "authorship_tag": "ABX9TyPr44W/UY3nnrpZSbnQTdoc",
      "include_colab_link": true
    },
    "kernelspec": {
      "name": "python3",
      "display_name": "Python 3"
    },
    "language_info": {
      "name": "python"
    }
  },
  "cells": [
    {
      "cell_type": "markdown",
      "metadata": {
        "id": "view-in-github",
        "colab_type": "text"
      },
      "source": [
        "<a href=\"https://colab.research.google.com/github/WookwonShim/data-analysis/blob/main/Linear_Algebra.ipynb\" target=\"_parent\"><img src=\"https://colab.research.google.com/assets/colab-badge.svg\" alt=\"Open In Colab\"/></a>"
      ]
    },
    {
      "cell_type": "markdown",
      "source": [
        "# Fuctions for Matrices"
      ],
      "metadata": {
        "id": "WWBwhyV3IbJF"
      }
    },
    {
      "cell_type": "code",
      "source": [
        "def matrix_multiplication(A, B):\n",
        "    # Check if multiplication is possible\n",
        "    if len(A[0]) != len(B):\n",
        "        raise ValueError(\"Num of cols in A must be equal to the num of rows in B\")\n",
        "\n",
        "    # Initialize the result matrix with zeros\n",
        "    result = [[0 for _ in range(len(B[0]))] for _ in range(len(A))]\n",
        "\n",
        "    # Perform matrix multiplication\n",
        "    for i in range(len(A)):\n",
        "        for j in range(len(B[0])):\n",
        "            for k in range(len(B)):\n",
        "                result[i][j] += A[i][k] * B[k][j]\n",
        "\n",
        "    return result\n",
        "\n",
        "# Example matrices\n",
        "A = [\n",
        "    [1, 2, 0],\n",
        "    [2, 3, 3]\n",
        "]\n",
        "\n",
        "B = [\n",
        "    [2, 1, 1],\n",
        "    [3, 3, 2],\n",
        "    [1, 0, 0]\n",
        "]\n",
        "\n",
        "# Perform multiplication\n",
        "result = matrix_multiplication(A, B)\n",
        "\n",
        "# Print the result\n",
        "print(\"Matrix A:\")\n",
        "for row in A:\n",
        "    print(row)\n",
        "\n",
        "print(\"\\nMatrix B:\")\n",
        "for row in B:\n",
        "    print(row)\n",
        "\n",
        "print(\"\\nResult of A * B:\")\n",
        "for row in result:\n",
        "    print(row)"
      ],
      "metadata": {
        "colab": {
          "base_uri": "https://localhost:8080/"
        },
        "id": "mrm6mDAljaJp",
        "outputId": "0ab4ccc1-ddd6-4870-f656-1e41b784ea94"
      },
      "execution_count": null,
      "outputs": [
        {
          "output_type": "stream",
          "name": "stdout",
          "text": [
            "Matrix A:\n",
            "[1, 2, 0]\n",
            "[2, 3, 3]\n",
            "\n",
            "Matrix B:\n",
            "[2, 1, 1]\n",
            "[3, 3, 2]\n",
            "[1, 0, 0]\n",
            "\n",
            "Result of A * B:\n",
            "[8, 7, 5]\n",
            "[16, 11, 8]\n"
          ]
        }
      ]
    },
    {
      "cell_type": "code",
      "source": [
        "def matrix_multiplication(A, B):\n",
        "  # Define the properties of the matrices\n",
        "  num_of_rows_A = len(A)    # number of rows in A\n",
        "  num_of_cols_A = len(A[0]) # number of columns in A\n",
        "  num_of_rows_B = len(B)    # number of rows in B\n",
        "  num_of_cols_B = len(B[0]) # number of columns in B\n",
        "\n",
        "  if num_of_cols_A != num_of_rows_B:\n",
        "    raise ValueError(\"\")\n",
        "\n",
        "  # Initialize the result matrix with zeros\n",
        "  result_matrix = [[0 for _ in range(num_of_cols_B)] for _ in range(num_of_rows_A)]\n",
        "\n",
        "  return result_matrix"
      ],
      "metadata": {
        "id": "gDhAqljuncKG"
      },
      "execution_count": null,
      "outputs": []
    },
    {
      "cell_type": "code",
      "source": [
        "A = [\n",
        "    [1, 2, 0],\n",
        "    [2, 3, 3]\n",
        "]\n",
        "\n",
        "B = [\n",
        "    [2, 1, 1],\n",
        "    [3, 3, 2],\n",
        "    [1, 0, 0]\n",
        "]\n",
        "\n",
        "matrix_multiplication(A, B)"
      ],
      "metadata": {
        "colab": {
          "base_uri": "https://localhost:8080/"
        },
        "id": "0yrQ-WQ2pU1W",
        "outputId": "774e22a1-97b4-419c-92ec-bc0e52b3dd8d"
      },
      "execution_count": null,
      "outputs": [
        {
          "output_type": "execute_result",
          "data": {
            "text/plain": [
              "[[0, 0, 0], [0, 0, 0]]"
            ]
          },
          "metadata": {},
          "execution_count": 6
        }
      ]
    },
    {
      "cell_type": "code",
      "source": [
        "import numpy as np\n",
        "\n",
        "def gauss_jordan_elimination(matrix):\n",
        "    # Convert the input matrix to a numpy array for easier manipulation\n",
        "    A = np.array(matrix, dtype=float)\n",
        "    rows, cols = A.shape\n",
        "\n",
        "    # Forward phase: Convert to row echelon form (REF)\n",
        "    for i in range(rows):\n",
        "        # Find the pivot element\n",
        "        pivot = A[i, i]\n",
        "        if pivot == 0:\n",
        "            for k in range(i + 1, rows):\n",
        "                if A[k, i] != 0:\n",
        "                    # Swap the rows\n",
        "                    A[[i, k]] = A[[k, i]]\n",
        "                    pivot = A[i, i]\n",
        "                    break\n",
        "\n",
        "        # Make the pivot element 1\n",
        "        A[i] = A[i] / pivot\n",
        "\n",
        "        # Eliminate the elements below the pivot\n",
        "        for j in range(i + 1, rows):\n",
        "            A[j] = A[j] - A[j, i] * A[i]\n",
        "\n",
        "    # Backward phase: Convert to reduced row echelon form (RREF)\n",
        "    for i in range(rows - 1, -1, -1):\n",
        "        # Eliminate the elements above the pivot\n",
        "        for j in range(i - 1, -1, -1):\n",
        "            A[j] = A[j] - A[j, i] * A[i]\n",
        "\n",
        "    return A\n",
        "\n",
        "# Example usage:\n",
        "matrix = [\n",
        "    [2, 1, -1, 8],\n",
        "    [-3, -1, 2, -11],\n",
        "    [-2, 1, 2, -3]\n",
        "]\n",
        "rref_matrix = gauss_jordan_elimination(matrix)\n",
        "print(rref_matrix)\n"
      ],
      "metadata": {
        "colab": {
          "base_uri": "https://localhost:8080/"
        },
        "id": "N1fJcIvyxNe9",
        "outputId": "db5f628f-dba2-4236-a692-406217daeb34"
      },
      "execution_count": null,
      "outputs": [
        {
          "output_type": "stream",
          "name": "stdout",
          "text": [
            "[[ 1.  0.  0.  2.]\n",
            " [ 0.  1.  0.  3.]\n",
            " [-0. -0.  1. -1.]]\n"
          ]
        }
      ]
    },
    {
      "cell_type": "markdown",
      "source": [
        "# Working With Linear Systems in Python"
      ],
      "metadata": {
        "id": "TtzQF_RkId_Z"
      }
    },
    {
      "cell_type": "markdown",
      "source": [
        "## Working With Vectors and Matrices Using NumPy"
      ],
      "metadata": {
        "id": "VmBC9HAANJEt"
      }
    },
    {
      "cell_type": "code",
      "source": [
        "import scipy\n",
        "import numpy as np"
      ],
      "metadata": {
        "id": "Z0Dh9EM5DAew"
      },
      "execution_count": null,
      "outputs": []
    },
    {
      "cell_type": "markdown",
      "source": [
        "A vector is a mathematical entity used to represent physical quantities that have both magnitude and direction."
      ],
      "metadata": {
        "id": "LQQeTH6gDI8H"
      }
    },
    {
      "cell_type": "code",
      "source": [
        "A = np.array([\n",
        "    [1, 2],\n",
        "     [3, 4],\n",
        "      [5, 6]\n",
        "    ])\n",
        "A.T"
      ],
      "metadata": {
        "colab": {
          "base_uri": "https://localhost:8080/"
        },
        "id": "CJkBcvaADlnw",
        "outputId": "e3b374a8-550d-4652-df15-9bc96af454a8"
      },
      "execution_count": null,
      "outputs": [
        {
          "output_type": "execute_result",
          "data": {
            "text/plain": [
              "array([[1, 3, 5],\n",
              "       [2, 4, 6]])"
            ]
          },
          "metadata": {},
          "execution_count": 15
        }
      ]
    },
    {
      "cell_type": "code",
      "source": [
        "v = np.array(\n",
        "    [1, 2, 3] # a one-dimensional vector.\n",
        ")\n",
        "v"
      ],
      "metadata": {
        "colab": {
          "base_uri": "https://localhost:8080/"
        },
        "id": "KoYuPt2IEOVb",
        "outputId": "80b8138a-9691-43fc-bdad-83c25a9afe33"
      },
      "execution_count": null,
      "outputs": [
        {
          "output_type": "execute_result",
          "data": {
            "text/plain": [
              "array([1, 2, 3])"
            ]
          },
          "metadata": {},
          "execution_count": 26
        }
      ]
    },
    {
      "cell_type": "code",
      "source": [
        "v.shape # a one-dimensional array (num of elements)."
      ],
      "metadata": {
        "colab": {
          "base_uri": "https://localhost:8080/"
        },
        "id": "GHMqHKC1EY7i",
        "outputId": "a3f1e8d6-4fc4-4c11-b752-4c9b8155e4b4"
      },
      "execution_count": null,
      "outputs": [
        {
          "output_type": "execute_result",
          "data": {
            "text/plain": [
              "(3,)"
            ]
          },
          "metadata": {},
          "execution_count": 19
        }
      ]
    },
    {
      "cell_type": "code",
      "source": [
        "v2 = np.array(\n",
        "    [[1, 2, 3]] # a two-dimensional row vector.\n",
        ")\n",
        "v2"
      ],
      "metadata": {
        "colab": {
          "base_uri": "https://localhost:8080/"
        },
        "id": "XS6bpWlmEf-9",
        "outputId": "ade20fa1-5308-422f-b78e-a3b34d87f91b"
      },
      "execution_count": null,
      "outputs": [
        {
          "output_type": "execute_result",
          "data": {
            "text/plain": [
              "array([[1, 2, 3]])"
            ]
          },
          "metadata": {},
          "execution_count": 27
        }
      ]
    },
    {
      "cell_type": "code",
      "source": [
        "v2.shape # a two-dimensional array (num of rows, num of cols). a nested list."
      ],
      "metadata": {
        "colab": {
          "base_uri": "https://localhost:8080/"
        },
        "id": "MJqMfICuEodp",
        "outputId": "21425f0f-2f1a-499b-ea57-8f542823629c"
      },
      "execution_count": null,
      "outputs": [
        {
          "output_type": "execute_result",
          "data": {
            "text/plain": [
              "(1, 3)"
            ]
          },
          "metadata": {},
          "execution_count": 25
        }
      ]
    },
    {
      "cell_type": "code",
      "source": [
        "v3 = np.array(\n",
        "    [[1], [2], [3]] # a two-dimensional column vector.\n",
        ")\n",
        "v3"
      ],
      "metadata": {
        "colab": {
          "base_uri": "https://localhost:8080/"
        },
        "id": "hyZndu8OFo5z",
        "outputId": "921296ec-d99d-4c91-8f72-9e7b1e177a0f"
      },
      "execution_count": null,
      "outputs": [
        {
          "output_type": "execute_result",
          "data": {
            "text/plain": [
              "array([[1],\n",
              "       [2],\n",
              "       [3]])"
            ]
          },
          "metadata": {},
          "execution_count": 29
        }
      ]
    },
    {
      "cell_type": "code",
      "source": [
        "v3.shape"
      ],
      "metadata": {
        "colab": {
          "base_uri": "https://localhost:8080/"
        },
        "id": "Ww5mZSTdFtUh",
        "outputId": "e3ba700b-8506-456b-babd-5669361a93ff"
      },
      "execution_count": null,
      "outputs": [
        {
          "output_type": "execute_result",
          "data": {
            "text/plain": [
              "(3, 1)"
            ]
          },
          "metadata": {},
          "execution_count": 30
        }
      ]
    },
    {
      "cell_type": "code",
      "source": [
        "v4 = np.array([1, 2, 3]).reshape(3, 1) # even though non-nested array, it creates a two dimensional array due to .reshape(3, 1).\n",
        "v4"
      ],
      "metadata": {
        "colab": {
          "base_uri": "https://localhost:8080/"
        },
        "id": "nMMSzNQKF8DU",
        "outputId": "be2f3d06-7973-429f-9866-9e510a8200f7"
      },
      "execution_count": null,
      "outputs": [
        {
          "output_type": "execute_result",
          "data": {
            "text/plain": [
              "array([[1],\n",
              "       [2],\n",
              "       [3]])"
            ]
          },
          "metadata": {},
          "execution_count": 40
        }
      ]
    },
    {
      "cell_type": "code",
      "source": [
        "v5 = np.array([1, 2, 3]).reshape(-1, 1) # -1 as an argument\n",
        "v5"
      ],
      "metadata": {
        "colab": {
          "base_uri": "https://localhost:8080/"
        },
        "id": "ie-suGYkGKmJ",
        "outputId": "c66fab82-9a9f-4097-bded-08251b139303"
      },
      "execution_count": null,
      "outputs": [
        {
          "output_type": "execute_result",
          "data": {
            "text/plain": [
              "array([[1],\n",
              "       [2],\n",
              "       [3]])"
            ]
          },
          "metadata": {},
          "execution_count": 38
        }
      ]
    },
    {
      "cell_type": "code",
      "source": [
        "np.zeros((3, 2)) # a tuple as an argument indicating (row, col). a float by default."
      ],
      "metadata": {
        "colab": {
          "base_uri": "https://localhost:8080/"
        },
        "id": "J8puxVmxGvbA",
        "outputId": "82d006dc-172c-412c-a5fc-f37e9ff00829"
      },
      "execution_count": null,
      "outputs": [
        {
          "output_type": "execute_result",
          "data": {
            "text/plain": [
              "array([[0., 0.],\n",
              "       [0., 0.],\n",
              "       [0., 0.]])"
            ]
          },
          "metadata": {},
          "execution_count": 43
        }
      ]
    },
    {
      "cell_type": "code",
      "source": [
        "np.zeros((3, 2), dtype=int) # a tuple as an argument indicating (row, col)."
      ],
      "metadata": {
        "colab": {
          "base_uri": "https://localhost:8080/"
        },
        "id": "zsPVPajWGMXt",
        "outputId": "e7105044-c801-499e-99bf-e0683062b07a"
      },
      "execution_count": null,
      "outputs": [
        {
          "output_type": "execute_result",
          "data": {
            "text/plain": [
              "array([[0, 0],\n",
              "       [0, 0],\n",
              "       [0, 0]])"
            ]
          },
          "metadata": {},
          "execution_count": 44
        }
      ]
    },
    {
      "cell_type": "code",
      "source": [
        "np.ones((3, 3), dtype=int)"
      ],
      "metadata": {
        "colab": {
          "base_uri": "https://localhost:8080/"
        },
        "id": "VP2y8PUaG0n_",
        "outputId": "5a0b987b-ae75-470c-aef9-c0b54ada3e9f"
      },
      "execution_count": null,
      "outputs": [
        {
          "output_type": "execute_result",
          "data": {
            "text/plain": [
              "array([[1, 1, 1],\n",
              "       [1, 1, 1],\n",
              "       [1, 1, 1]])"
            ]
          },
          "metadata": {},
          "execution_count": 45
        }
      ]
    },
    {
      "cell_type": "code",
      "source": [
        "np.random.rand(3, 2)"
      ],
      "metadata": {
        "colab": {
          "base_uri": "https://localhost:8080/"
        },
        "id": "IXOjFOk7G_Ws",
        "outputId": "4bd303a6-9f56-4647-ad98-9972c54c42f4"
      },
      "execution_count": null,
      "outputs": [
        {
          "output_type": "execute_result",
          "data": {
            "text/plain": [
              "array([[0.04173374, 0.04163868],\n",
              "       [0.91340744, 0.21541485],\n",
              "       [0.74091387, 0.13567172]])"
            ]
          },
          "metadata": {},
          "execution_count": 47
        }
      ]
    },
    {
      "cell_type": "code",
      "source": [
        "A = np.array([[1, 2], [3, 4]])\n",
        "v = np.array([5, 6]).reshape(-1, 1)\n",
        "A @ v # matrix multiplication"
      ],
      "metadata": {
        "colab": {
          "base_uri": "https://localhost:8080/"
        },
        "id": "2Yt-0GPiHUZJ",
        "outputId": "a34726dc-6328-4170-c51b-d0e136efda52"
      },
      "execution_count": null,
      "outputs": [
        {
          "output_type": "execute_result",
          "data": {
            "text/plain": [
              "array([[17],\n",
              "       [39]])"
            ]
          },
          "metadata": {},
          "execution_count": 49
        }
      ]
    },
    {
      "cell_type": "code",
      "source": [
        "# Using scipy.linalg.solve()\n",
        "\n",
        "import numpy as np\n",
        "from scipy import linalg\n",
        "A = np.array(\n",
        "    [\n",
        "        [3, 2],\n",
        "        [2, -1]\n",
        "    ]\n",
        ") # create the coefficients matrix as a NumPy array and call it A.\n",
        "\n",
        "b = np.array([12, 1]).reshape(-1, 1) # create the independent terms vector using a NumPy array called b.\n",
        "\n",
        "x = linalg.solve(A, b) # call linalg.solve() to solve the linear system characterized by A and b, with the result stored in x\n",
        "x"
      ],
      "metadata": {
        "id": "E7IbJ6RFINPx",
        "colab": {
          "base_uri": "https://localhost:8080/"
        },
        "outputId": "4dac7607-a803-41fb-855f-8e1196edf2e5"
      },
      "execution_count": 4,
      "outputs": [
        {
          "output_type": "execute_result",
          "data": {
            "text/plain": [
              "array([[2.],\n",
              "       [3.]])"
            ]
          },
          "metadata": {},
          "execution_count": 4
        }
      ]
    },
    {
      "cell_type": "markdown",
      "source": [
        "\n",
        "## Solving a Practical Problem: Building a Meal Plan\n",
        "\n",
        "One sort of problem that you would generally solve with linear systems is when you need to find the proportions of components needed to obtain a certain mixture.\n",
        "\n",
        "For that, assume that a balanced diet should include the following:\n",
        "\n",
        "* 170 units of vitamin A\n",
        "* 180 units of vitamin B\n",
        "* 140 units of vitamin C\n",
        "* 180 units of vitamin D\n",
        "* 350 units of vitamin E\n",
        "\n",
        "Your task is to find the quantities of each different food in order to obtain the specified amounts of the necessary vitamins. In the following table, you have the results of analyzing one gram of each food in terms of units of each vitamin:\n",
        "\n",
        "| **Food** | **Vitamin A** | **Vitamin B** | **Vitamin C** | **Vitamin D** | **Vitamin E** |\n",
        "|--- | --- | --- | --- | --- | --- |\n",
        "| #1 | 1 | 10 | 1 | 2 | 2 |\n",
        "| #2 | 9 | 1 | 0 | 1 | 1 |\n",
        "| #3 | 2 | 2 | 5 | 1 | 2 |\n",
        "| #4 | 1 | 1 | 1 | 2 | 13 |\n",
        "| #5 | 1 | 1 | 1 | 9 | 2 |"
      ],
      "metadata": {
        "id": "FHRvF1R3J-iB"
      }
    },
    {
      "cell_type": "code",
      "source": [
        "A = np.array(\n",
        "    [\n",
        "        [1, 9, 2, 1, 1],\n",
        "        [10, 1, 2, 1, 1],\n",
        "        [1, 0, 5, 1, 1],\n",
        "        [2, 1, 1, 2, 9],\n",
        "        [2, 1, 2, 13, 2]\n",
        "\n",
        "    ]\n",
        ")\n",
        "\n",
        "b = np.array(\n",
        "    [170, 180, 140, 180, 350]\n",
        ").reshape(-1, 1)\n",
        "\n",
        "x = linalg.solve(A, b)\n",
        "x"
      ],
      "metadata": {
        "colab": {
          "base_uri": "https://localhost:8080/"
        },
        "id": "nPGaLYnmJ974",
        "outputId": "13c3a7fb-882d-43c1-b021-b9dae28b6581"
      },
      "execution_count": 9,
      "outputs": [
        {
          "output_type": "execute_result",
          "data": {
            "text/plain": [
              "array([[10.],\n",
              "       [10.],\n",
              "       [20.],\n",
              "       [20.],\n",
              "       [10.]])"
            ]
          },
          "metadata": {},
          "execution_count": 9
        }
      ]
    }
  ]
}